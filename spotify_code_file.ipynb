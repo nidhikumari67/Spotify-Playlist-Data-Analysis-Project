{
 "cells": [
  {
   "cell_type": "code",
   "execution_count": 24,
   "id": "d9eada3b-a02b-4dec-a083-a6210f2626a9",
   "metadata": {},
   "outputs": [],
   "source": [
    "#Import the Spotipy library, which is a Python library for the Spotify Web API.\n",
    "import spotipy\n",
    "#Import SpotifyClientCredentials from spotipy.oauth2 module, which provides client credentials flow for Spotify API authentication.\n",
    "from spotipy.oauth2 import SpotifyClientCredentials\n",
    "from datetime import datetime  \n",
    "import pandas as pd\n",
    "#Import the sqlalchemy library, which is used for interacting with relational databases using SQL.\n",
    "import sqlalchemy as sal"
   ]
  },
  {
   "cell_type": "code",
   "execution_count": 25,
   "id": "e27cb0fd-ac8a-4513-bfbe-4a8a2e907a3e",
   "metadata": {},
   "outputs": [],
   "source": [
    "# Spotify API credentials\n",
    "spotify_credentials = SpotifyClientCredentials('b353b56451d84f2abd7945c34b97b3fb', '01ca601fda9f4f64a618ebaef441f187')\n",
    "spotify = spotipy.Spotify(client_credentials_manager=spotify_credentials)"
   ]
  },
  {
   "cell_type": "code",
   "execution_count": 26,
   "id": "43474fe8-83ea-4ab2-bd2f-52620e86a101",
   "metadata": {},
   "outputs": [],
   "source": [
    "# Connect to SQL Server\n",
    "engine = sal.create_engine('mssql://LAPTOP-27O058ES\\SQLEXPRESS/master?driver=ODBC+DRIVER+17+FOR+SQL+SERVER')\n",
    "conn = engine.connect()"
   ]
  },
  {
   "cell_type": "code",
   "execution_count": 4,
   "id": "308555e3-3e17-4664-a8c3-ca5f98dba04d",
   "metadata": {},
   "outputs": [],
   "source": [
    "#https://open.spotify.com/playlist/4hOKQuZbraPDIfaGbM3lKI\n",
    "tracks = spotify.playlist_tracks('4hOKQuZbraPDIfaGbM3lKI')"
   ]
  },
  {
   "cell_type": "code",
   "execution_count": 5,
   "id": "e5e8bca7-c24f-48dd-b711-0469a3633f7f",
   "metadata": {},
   "outputs": [
    {
     "data": {
      "text/plain": [
       "dict_keys(['href', 'items', 'limit', 'next', 'offset', 'previous', 'total'])"
      ]
     },
     "execution_count": 5,
     "metadata": {},
     "output_type": "execute_result"
    }
   ],
   "source": [
    "tracks.keys()"
   ]
  },
  {
   "cell_type": "code",
   "execution_count": 6,
   "id": "bd8c0006-1f24-44d2-8f84-28e593b9c6d9",
   "metadata": {},
   "outputs": [
    {
     "data": {
      "text/plain": [
       "dict_keys"
      ]
     },
     "execution_count": 6,
     "metadata": {},
     "output_type": "execute_result"
    }
   ],
   "source": [
    "type(tracks['items'][0].keys())"
   ]
  },
  {
   "cell_type": "code",
   "execution_count": 7,
   "id": "b5bee103-76bc-491e-b4db-5fa068a44879",
   "metadata": {},
   "outputs": [
    {
     "data": {
      "text/plain": [
       "dict_keys(['album', 'artists', 'available_markets', 'disc_number', 'duration_ms', 'episode', 'explicit', 'external_ids', 'external_urls', 'href', 'id', 'is_local', 'name', 'popularity', 'preview_url', 'track', 'track_number', 'type', 'uri'])"
      ]
     },
     "execution_count": 7,
     "metadata": {},
     "output_type": "execute_result"
    }
   ],
   "source": [
    "track=tracks['items'][0]\n",
    "track['track'].keys()"
   ]
  },
  {
   "cell_type": "code",
   "execution_count": 34,
   "id": "65580cf5-3e44-406a-82f1-69b81ccc71a0",
   "metadata": {},
   "outputs": [
    {
     "data": {
      "text/plain": [
       "160.596"
      ]
     },
     "execution_count": 34,
     "metadata": {},
     "output_type": "execute_result"
    }
   ],
   "source": [
    "track['track']['duration_ms']/1000"
   ]
  },
  {
   "cell_type": "code",
   "execution_count": 28,
   "id": "0791460c-d20f-46bc-a29a-a6b78741b648",
   "metadata": {},
   "outputs": [
    {
     "data": {
      "text/html": [
       "<div>\n",
       "<style scoped>\n",
       "    .dataframe tbody tr th:only-of-type {\n",
       "        vertical-align: middle;\n",
       "    }\n",
       "\n",
       "    .dataframe tbody tr th {\n",
       "        vertical-align: top;\n",
       "    }\n",
       "\n",
       "    .dataframe thead th {\n",
       "        text-align: right;\n",
       "    }\n",
       "</style>\n",
       "<table border=\"1\" class=\"dataframe\">\n",
       "  <thead>\n",
       "    <tr style=\"text-align: right;\">\n",
       "      <th></th>\n",
       "      <th>Title</th>\n",
       "      <th>Artist</th>\n",
       "      <th>Album</th>\n",
       "      <th>ReleaseDate</th>\n",
       "      <th>Popularity</th>\n",
       "      <th>Duration</th>\n",
       "      <th>SnapshotDate</th>\n",
       "    </tr>\n",
       "  </thead>\n",
       "  <tbody>\n",
       "    <tr>\n",
       "      <th>0</th>\n",
       "      <td>Despacito - Remix</td>\n",
       "      <td>Luis Fonsi</td>\n",
       "      <td>Despacito Feat. Justin Bieber (Remix)</td>\n",
       "      <td>2017-04-17</td>\n",
       "      <td>2</td>\n",
       "      <td>228.826</td>\n",
       "      <td>2024-01-21 18:33:05</td>\n",
       "    </tr>\n",
       "    <tr>\n",
       "      <th>1</th>\n",
       "      <td>I'm the One</td>\n",
       "      <td>DJ Khaled</td>\n",
       "      <td>I'm the One</td>\n",
       "      <td>2017-04-27</td>\n",
       "      <td>0</td>\n",
       "      <td>288.876</td>\n",
       "      <td>2024-01-21 18:33:05</td>\n",
       "    </tr>\n",
       "    <tr>\n",
       "      <th>2</th>\n",
       "      <td>Shape of You</td>\n",
       "      <td>Ed Sheeran</td>\n",
       "      <td>÷ (Deluxe)</td>\n",
       "      <td>2017-03-03</td>\n",
       "      <td>89</td>\n",
       "      <td>233.712</td>\n",
       "      <td>2024-01-21 18:33:05</td>\n",
       "    </tr>\n",
       "    <tr>\n",
       "      <th>3</th>\n",
       "      <td>HUMBLE.</td>\n",
       "      <td>Kendrick Lamar</td>\n",
       "      <td>DAMN.</td>\n",
       "      <td>2017-04-14</td>\n",
       "      <td>87</td>\n",
       "      <td>177.000</td>\n",
       "      <td>2024-01-21 18:33:05</td>\n",
       "    </tr>\n",
       "    <tr>\n",
       "      <th>4</th>\n",
       "      <td>Mask Off</td>\n",
       "      <td>Future</td>\n",
       "      <td>FUTURE</td>\n",
       "      <td>2017-08-04</td>\n",
       "      <td>51</td>\n",
       "      <td>204.600</td>\n",
       "      <td>2024-01-21 18:33:05</td>\n",
       "    </tr>\n",
       "    <tr>\n",
       "      <th>...</th>\n",
       "      <td>...</td>\n",
       "      <td>...</td>\n",
       "      <td>...</td>\n",
       "      <td>...</td>\n",
       "      <td>...</td>\n",
       "      <td>...</td>\n",
       "      <td>...</td>\n",
       "    </tr>\n",
       "    <tr>\n",
       "      <th>95</th>\n",
       "      <td>24K Magic</td>\n",
       "      <td>Bruno Mars</td>\n",
       "      <td>24K Magic</td>\n",
       "      <td>2016-11-17</td>\n",
       "      <td>83</td>\n",
       "      <td>225.983</td>\n",
       "      <td>2024-01-21 18:33:05</td>\n",
       "    </tr>\n",
       "    <tr>\n",
       "      <th>96</th>\n",
       "      <td>Tu Foto</td>\n",
       "      <td>Ozuna</td>\n",
       "      <td>Tu Foto</td>\n",
       "      <td>2017-04-27</td>\n",
       "      <td>0</td>\n",
       "      <td>193.117</td>\n",
       "      <td>2024-01-21 18:33:05</td>\n",
       "    </tr>\n",
       "    <tr>\n",
       "      <th>97</th>\n",
       "      <td>T-Shirt</td>\n",
       "      <td>Migos</td>\n",
       "      <td>Culture</td>\n",
       "      <td>2017-04-07</td>\n",
       "      <td>1</td>\n",
       "      <td>242.407</td>\n",
       "      <td>2024-01-21 18:33:05</td>\n",
       "    </tr>\n",
       "    <tr>\n",
       "      <th>98</th>\n",
       "      <td>Sola (Remix)</td>\n",
       "      <td>Anuel AA</td>\n",
       "      <td>Sola (Remix)</td>\n",
       "      <td>2016-12-01</td>\n",
       "      <td>78</td>\n",
       "      <td>307.910</td>\n",
       "      <td>2024-01-21 18:33:05</td>\n",
       "    </tr>\n",
       "    <tr>\n",
       "      <th>99</th>\n",
       "      <td>Whippin (feat. Felix Snow)</td>\n",
       "      <td>Kiiara</td>\n",
       "      <td>Whippin (feat. Felix Snow)</td>\n",
       "      <td>2017-04-12</td>\n",
       "      <td>48</td>\n",
       "      <td>160.596</td>\n",
       "      <td>2024-01-21 18:33:05</td>\n",
       "    </tr>\n",
       "  </tbody>\n",
       "</table>\n",
       "<p>100 rows × 7 columns</p>\n",
       "</div>"
      ],
      "text/plain": [
       "                         Title          Artist  \\\n",
       "0            Despacito - Remix      Luis Fonsi   \n",
       "1                  I'm the One       DJ Khaled   \n",
       "2                 Shape of You      Ed Sheeran   \n",
       "3                      HUMBLE.  Kendrick Lamar   \n",
       "4                     Mask Off          Future   \n",
       "..                         ...             ...   \n",
       "95                   24K Magic      Bruno Mars   \n",
       "96                     Tu Foto           Ozuna   \n",
       "97                     T-Shirt           Migos   \n",
       "98                Sola (Remix)        Anuel AA   \n",
       "99  Whippin (feat. Felix Snow)          Kiiara   \n",
       "\n",
       "                                    Album ReleaseDate  Popularity  Duration  \\\n",
       "0   Despacito Feat. Justin Bieber (Remix)  2017-04-17           2   228.826   \n",
       "1                             I'm the One  2017-04-27           0   288.876   \n",
       "2                              ÷ (Deluxe)  2017-03-03          89   233.712   \n",
       "3                                   DAMN.  2017-04-14          87   177.000   \n",
       "4                                  FUTURE  2017-08-04          51   204.600   \n",
       "..                                    ...         ...         ...       ...   \n",
       "95                              24K Magic  2016-11-17          83   225.983   \n",
       "96                                Tu Foto  2017-04-27           0   193.117   \n",
       "97                                Culture  2017-04-07           1   242.407   \n",
       "98                           Sola (Remix)  2016-12-01          78   307.910   \n",
       "99             Whippin (feat. Felix Snow)  2017-04-12          48   160.596   \n",
       "\n",
       "           SnapshotDate  \n",
       "0   2024-01-21 18:33:05  \n",
       "1   2024-01-21 18:33:05  \n",
       "2   2024-01-21 18:33:05  \n",
       "3   2024-01-21 18:33:05  \n",
       "4   2024-01-21 18:33:05  \n",
       "..                  ...  \n",
       "95  2024-01-21 18:33:05  \n",
       "96  2024-01-21 18:33:05  \n",
       "97  2024-01-21 18:33:05  \n",
       "98  2024-01-21 18:33:05  \n",
       "99  2024-01-21 18:33:05  \n",
       "\n",
       "[100 rows x 7 columns]"
      ]
     },
     "execution_count": 28,
     "metadata": {},
     "output_type": "execute_result"
    }
   ],
   "source": [
    "song_data = []\n",
    "for track in tracks['items']:\n",
    "    track_info = {\n",
    "        'Title': track['track']['name'],\n",
    "        'Artist': track['track']['artists'][0]['name'],\n",
    "        'Album': track['track']['album']['name'],\n",
    "        'ReleaseDate': track['track']['album']['release_date'],\n",
    "        'Popularity': track['track']['popularity'],\n",
    "        'Duration': track['track']['duration_ms']/1000,\n",
    "        'SnapshotDate': datetime.now().strftime('%Y-%m-%d %H:%M:%S')\n",
    "    }\n",
    "    song_data.append(track_info)\n",
    "\n",
    "# Create a DataFrame using pandas\n",
    "df = pd.DataFrame(song_data)\n",
    "df"
   ]
  },
  {
   "cell_type": "code",
   "execution_count": 35,
   "id": "7cae1c1a-2c77-4866-80b4-8ed0d7c5c270",
   "metadata": {},
   "outputs": [],
   "source": [
    "# Write the contents of the DataFrame 'df' to a SQL table named 'SpotifyData'.\n",
    "# 'con' is the SQLAlchemy connection object, and 'index=False' means not to include the DataFrame index as a separate column.\n",
    "df.to_sql('SpotifyData',con=conn , index=False , if_exists = 'append')\n",
    "conn.commit()"
   ]
  },
  {
   "cell_type": "code",
   "execution_count": null,
   "id": "d7eb7787-9fc7-49fd-a37c-2fed496c232a",
   "metadata": {},
   "outputs": [],
   "source": []
  }
 ],
 "metadata": {
  "kernelspec": {
   "display_name": "Python 3 (ipykernel)",
   "language": "python",
   "name": "python3"
  },
  "language_info": {
   "codemirror_mode": {
    "name": "ipython",
    "version": 3
   },
   "file_extension": ".py",
   "mimetype": "text/x-python",
   "name": "python",
   "nbconvert_exporter": "python",
   "pygments_lexer": "ipython3",
   "version": "3.11.5"
  }
 },
 "nbformat": 4,
 "nbformat_minor": 5
}
